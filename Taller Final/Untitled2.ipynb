{
  "nbformat": 4,
  "nbformat_minor": 0,
  "metadata": {
    "colab": {
      "name": "Untitled2.ipynb",
      "provenance": [],
      "collapsed_sections": []
    },
    "kernelspec": {
      "name": "python3",
      "display_name": "Python 3"
    }
  },
  "cells": [
    {
      "cell_type": "markdown",
      "metadata": {
        "id": "1tbfu4hkZiGd"
      },
      "source": [
        "1\n"
      ]
    },
    {
      "cell_type": "code",
      "metadata": {
        "colab": {
          "base_uri": "https://localhost:8080/"
        },
        "id": "EfqUtIhrZjEV",
        "outputId": "4508e12b-8ee3-4dc7-ceff-80c0d60ac63a"
      },
      "source": [
        "class Node:\n",
        "    def __init__(self,data,next=None):\n",
        "        self.data = data\n",
        "        self.next = next\n",
        "\n",
        "class LinkedList:\n",
        "    def __init__(self,head=None):\n",
        "        if(head ==None):\n",
        "            self.head = head\n",
        "        else:\n",
        "            self.head = Node(head)\n",
        "            \n",
        "    def insertByHead(self,element):\n",
        "        if self.head ==None:\n",
        "            self.head = Node(element)\n",
        "        else:\n",
        "            newNode = Node(element)\n",
        "            newNode.next = self.head\n",
        "            self.head = newNode\n",
        "            \n",
        "    def toPrint(self):\n",
        "        current = self.head\n",
        "        while(current.next!=None):\n",
        "            print(current.data,\"->\",end=\" \")\n",
        "            current = current.next\n",
        "        print(current.data)\n",
        "        \n",
        "myList = LinkedList(7)\n",
        "myList.insertByHead(\"Hola\")\n",
        "myList.insertByHead([1,2,3])\n",
        "myList.insertByHead(2)\n",
        "print(\"list\")\n",
        "myList.toPrint()"
      ],
      "execution_count": 25,
      "outputs": [
        {
          "output_type": "stream",
          "text": [
            "list\n",
            "2 -> [1, 2, 3] -> Hola -> 7\n"
          ],
          "name": "stdout"
        }
      ]
    },
    {
      "cell_type": "markdown",
      "metadata": {
        "id": "baykq1aGZm7N"
      },
      "source": [
        "2"
      ]
    },
    {
      "cell_type": "code",
      "metadata": {
        "colab": {
          "base_uri": "https://localhost:8080/"
        },
        "id": "K0DCc_6WZn_l",
        "outputId": "0d3d869a-8854-435a-d28a-03039dcc3f06"
      },
      "source": [
        "class Node:\n",
        "    def __init__(self,data, next =None):\n",
        "        self.data = int(data)\n",
        "        self.next = next\n",
        "        \n",
        "class Stack:\n",
        "    \n",
        "    def __init__(self):\n",
        "        self.head =None\n",
        "    \n",
        "    def push(self,element):\n",
        "        if self.head == None:\n",
        "            self.head = Node(element)\n",
        "        else:\n",
        "            newNode = Node(element)\n",
        "            newNode.next = self.head\n",
        "            self.head = newNode\n",
        "    \n",
        "    def toPrint(self):\n",
        "        aux = self.head\n",
        "        while(aux.next!=None):\n",
        "            print(aux.data,\"->\",end=\" \")\n",
        "            aux = aux.next\n",
        "        print(aux.data)\n",
        "    \n",
        "    def CalculateAverage(self):\n",
        "        aux = self.head\n",
        "        average = 0\n",
        "        index =0\n",
        "        while(aux!=None):\n",
        "            average+=aux.data\n",
        "            aux = aux.next\n",
        "            index+=1\n",
        "        return average/index  \n",
        "\n",
        "def main():\n",
        "     pila =Stack()\n",
        "     pila.push(1)\n",
        "     pila.push(2)\n",
        "     pila.push(3)\n",
        "     pila.push(4)\n",
        "     pila.push(5)\n",
        "     pila.toPrint()\n",
        "     average = pila.CalculateAverage()\n",
        "     print(average)\n",
        "\n",
        "if __name__=='__main__':\n",
        "    main()"
      ],
      "execution_count": 26,
      "outputs": [
        {
          "output_type": "stream",
          "text": [
            "5 -> 4 -> 3 -> 2 -> 1\n",
            "3.0\n"
          ],
          "name": "stdout"
        }
      ]
    },
    {
      "cell_type": "markdown",
      "metadata": {
        "id": "i8Nq8IUwZ6md"
      },
      "source": [
        "3\n"
      ]
    },
    {
      "cell_type": "code",
      "metadata": {
        "colab": {
          "base_uri": "https://localhost:8080/"
        },
        "id": "t9oeTZDTavC1",
        "outputId": "ca07455b-c03a-4e14-b596-fe08ede2be9b"
      },
      "source": [
        "def post(preo, ino):\n",
        "    if preo == \"\" or ino == \"\":\n",
        "        return \"\"\n",
        "    if len(preo) == 1 or len(ino) == 1:\n",
        "        return preo or ino\n",
        "    PostOrden = \"\"\n",
        "    Inoizq = \"\"\n",
        "    Preizq = \"\"\n",
        "    Inoder = \"\"\n",
        "    Preder = \"\"\n",
        "    aux = 0\n",
        "    while ino[aux] != preo[0]:\n",
        "        Inoizq = Inoizq + ino[aux]\n",
        "        aux+=1\n",
        "    aux+=1\n",
        "    while aux<len(ino):\n",
        "        Inoder = Inoder + ino[aux]\n",
        "        aux+=1\n",
        "    aux=0\n",
        "    for i in preo:\n",
        "        if i in Inoizq:\n",
        "            Preizq = Preizq + i\n",
        "        if i in Inoder:\n",
        "            Preder = Preder + i\n",
        "    PostOrden = PostOrden+post(Preizq, Inoizq)+post(Preder, Inoder)+preo[0]\n",
        "    return PostOrden\n",
        "print(post(\"GEAIBMCLDFKJH\", \"IABEGLDCFMKHJ\"))"
      ],
      "execution_count": 41,
      "outputs": [
        {
          "output_type": "stream",
          "text": [
            "IBAEDLFCHJKMG\n"
          ],
          "name": "stdout"
        }
      ]
    },
    {
      "cell_type": "markdown",
      "metadata": {
        "id": "-4EOR1ZmbE7e"
      },
      "source": [
        "4"
      ]
    },
    {
      "cell_type": "code",
      "metadata": {
        "colab": {
          "base_uri": "https://localhost:8080/"
        },
        "id": "yPqhoQ80bFvt",
        "outputId": "a9648c39-e53d-4d9d-8082-0a0c98d77848"
      },
      "source": [
        "class Posibility:  # Clase que ayuda a alamcenar las posibilidades.\n",
        "    def __init__(self, six, nine, twenty):\n",
        "        self.six = int(six)\n",
        "        self.nine = int(nine)\n",
        "        self.twenty = int(twenty)\n",
        "\n",
        "    def __str__(self):\n",
        "        return self.six, self.nine, self.twenty\n",
        "\n",
        "def posibilidades(pos, nuggets, six = 0, nine = 0, twenty = 0):  # Función que busca las posibilidades de manera recursiva-\n",
        "    if nuggets == 0:\n",
        "        pos.add(Posibility(six, nine, twenty).__str__())\n",
        "        return pos\n",
        "    if nuggets < 0:\n",
        "        return pos\n",
        "    pos = posibilidades(pos, nuggets - 6, six + 1, nine, twenty)\n",
        "    pos = posibilidades(pos, nuggets - 9, six, nine + 1, twenty)\n",
        "    pos = posibilidades(pos, nuggets - 20, six, nine, twenty + 1)\n",
        "    return pos\n",
        "\n",
        "def print_posibilidades(pos, nuggets):\n",
        "    if len(pos) == 0:\n",
        "        print(\"Es imposible comprar %d nuggets\" % nuggets)\n",
        "    else:\n",
        "        for posibilidad in pos:\n",
        "            if posibilidad[0] != 0 and posibilidad[1] == 0 and posibilidad[2] == 0:\n",
        "                print(\"Puede comprar %d paquetes de 6 nuggets\" % posibilidad[0])\n",
        "            elif posibilidad[0] == 0 and posibilidad[1] != 0 and posibilidad[2] == 0:\n",
        "                print(\"Puede comprar %d paquetes de 9 nuggets\" % posibilidad[1])\n",
        "            elif posibilidad[0] == 0 and posibilidad[1] == 0 and posibilidad[2] != 0:\n",
        "                print(\"Puede comprar %d paquetes de 20 nuggets\" % posibilidad[2])\n",
        "            elif posibilidad[0] != 0 and posibilidad[1] != 0 and posibilidad[2] == 0:\n",
        "                print(\"Puede comprar %d paquetes de 6 nuggets y %d de 9 nuggets\" % (posibilidad[0], posibilidad[1]))\n",
        "            elif posibilidad[0] != 0 and posibilidad[1] == 0 and posibilidad[2] != 0:\n",
        "                print(\"Puede comprar %d paquetes de 6 nuggets y %d de 20 nuggets\" % (posibilidad[0], posibilidad[2]))\n",
        "            elif posibilidad[0] == 0 and posibilidad[1] != 0 and posibilidad[2] != 0:\n",
        "                print(\"Puede comprar %d paquetes de 9 nuggets y %d de 20 nuggets\" % (posibilidad[1], posibilidad[2]))\n",
        "            else:\n",
        "                print(\"Puede comprar %d paquetes de 6 nuggets, %d de 9 nuggets y %d de 20 nuggets\" % (posibilidad[0], posibilidad[1], posibilidad[2]))\n",
        "\n",
        "pos = set()\n",
        "nuggets = int(input(\"Ingrese el número de nuggets a comprar: \"))\n",
        "print()\n",
        "pos = posibilidades(pos, nuggets)\n",
        "print_posibilidades(pos, nuggets)"
      ],
      "execution_count": 33,
      "outputs": [
        {
          "output_type": "stream",
          "text": [
            "Ingrese el número de nuggets a comprar: 100\n",
            "\n",
            "Puede comprar 10 paquetes de 6 nuggets y 2 de 20 nuggets\n",
            "Puede comprar 1 paquetes de 6 nuggets, 6 de 9 nuggets y 2 de 20 nuggets\n",
            "Puede comprar 7 paquetes de 6 nuggets, 2 de 9 nuggets y 2 de 20 nuggets\n",
            "Puede comprar 5 paquetes de 20 nuggets\n",
            "Puede comprar 4 paquetes de 6 nuggets, 4 de 9 nuggets y 2 de 20 nuggets\n"
          ],
          "name": "stdout"
        }
      ]
    },
    {
      "cell_type": "markdown",
      "metadata": {
        "id": "FoNxHmcfbbu0"
      },
      "source": [
        "6"
      ]
    },
    {
      "cell_type": "code",
      "metadata": {
        "colab": {
          "base_uri": "https://localhost:8080/"
        },
        "id": "VtuJd3U2bc2i",
        "outputId": "0a76d93b-2d72-4dc3-fac3-cc016039b912"
      },
      "source": [
        "class Nodo:\n",
        "    \n",
        "    def __init__(self,valor):\n",
        "        self.valor=valor\n",
        "        self.hijoI=None\n",
        "        self.hijoD=None\n",
        "\n",
        "class Arbol:\n",
        "    def __init__(self):\n",
        "        self.raiz= None\n",
        "        \n",
        "    def obtRaiz(self):\n",
        "        return self.raiz\n",
        "    \n",
        "    def agregar(self,val):\n",
        "        if(self.raiz==None):\n",
        "            self.raiz = Nodo(val)\n",
        "        else:\n",
        "            self.agNodo(val,self.raiz)\n",
        "    \n",
        "    def agNodo(self, val, nodo):\n",
        "        if(val<nodo.valor):\n",
        "            if(nodo.hijoI!=None):\n",
        "                self.agNodo(val,nodo.hijoI)\n",
        "            else:\n",
        "                nodo.hijoI = Nodo(val)\n",
        "        else:\n",
        "            if(nodo.hijoD!=None):\n",
        "                self.agNodo(val,nodo.hijoD)\n",
        "            else:\n",
        "                nodo.hijoD = Nodo(val)\n",
        "    \n",
        "    def inorder(self,root):\n",
        "        if root ==None:\n",
        "            return\n",
        "        self.inorder(root.hijoI)\n",
        "        print(root.valor)\n",
        "        self.inorder(root.hijoD)\n",
        "  \n",
        "    def calculateHeigth(self,nodo):\n",
        "        heigth=0\n",
        "        if nodo == None:\n",
        "            return self.heigth\n",
        "        if nodo.hijoI!=None:\n",
        "            heigth = max(heigth,self.calculateHeigth(nodo.hijoI))\n",
        "        if nodo.hijoD != None:\n",
        "            heigth = max(heigth,self.calculateHeigth(nodo.hijoD))\n",
        "        heigth+=1\n",
        "        return heigth\n",
        "\n",
        "def main():\n",
        "    t = Arbol()\n",
        "    t.agregar(5)\n",
        "    t.agregar(4)\n",
        "    t.agregar(7)\n",
        "    t.agregar(8)\n",
        "    t.agregar(9)\n",
        "    altura = t.calculateHeigth(t.obtRaiz())\n",
        "    print(\"altura:\",altura)\n",
        "    \n",
        "if __name__==\"__main__\":\n",
        "    main()"
      ],
      "execution_count": 34,
      "outputs": [
        {
          "output_type": "stream",
          "text": [
            "altura: 4\n"
          ],
          "name": "stdout"
        }
      ]
    },
    {
      "cell_type": "markdown",
      "metadata": {
        "id": "QXltN0FddDb-"
      },
      "source": [
        "7"
      ]
    },
    {
      "cell_type": "code",
      "metadata": {
        "colab": {
          "base_uri": "https://localhost:8080/"
        },
        "id": "CKIHl12Qcyc1",
        "outputId": "ce64222b-8f44-484e-d9a3-c0c388b481eb"
      },
      "source": [
        "class Alumno:\n",
        "    def __init__(self, nombre, edad, nota):\n",
        "        self.nombre = nombre\n",
        "        self.edad = edad\n",
        "        self.nota = nota\n",
        "    def __str__(self):\n",
        "       return self.nombre+' - '+str(self.edad)+' años :'+str(self.nota)\n",
        "class Nodo:\n",
        "    def __init__(self, datos):\n",
        "        self.datos = datos\n",
        "        self.siguiente = None\n",
        "\n",
        "nodo = Nodo(Alumno('Lopez', 30, 8.9))\n",
        "primero = nodo\n",
        "nodo = Nodo(Alumno('Diaz', 27, 3.7))\n",
        "nodo.siguiente = primero\n",
        "primero = nodo\n",
        "print(primero.datos)\n",
        "print(primero.siguiente.datos)"
      ],
      "execution_count": 39,
      "outputs": [
        {
          "output_type": "stream",
          "text": [
            "Diaz - 27 años :3.7\n",
            "Lopez - 30 años :8.9\n"
          ],
          "name": "stdout"
        }
      ]
    },
    {
      "cell_type": "code",
      "metadata": {
        "id": "o52tHw0vdFFE"
      },
      "source": [
        ""
      ],
      "execution_count": null,
      "outputs": []
    }
  ]
}